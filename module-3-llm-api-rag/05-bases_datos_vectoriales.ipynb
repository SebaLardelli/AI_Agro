{
 "cells": [
  {
   "cell_type": "markdown",
   "metadata": {
    "id": "cF6iV-K8EoCY"
   },
   "source": [
    "# Bases de Datos Vectoriales para el Agro"
   ]
  },
  {
   "cell_type": "markdown",
   "metadata": {
    "id": "cDUQ4o9XFpoO"
   },
   "source": [
    "## Setup"
   ]
  },
  {
   "cell_type": "code",
   "execution_count": null,
   "metadata": {
    "colab": {
     "base_uri": "https://localhost:8080/"
    },
    "executionInfo": {
     "elapsed": 23516,
     "status": "ok",
     "timestamp": 1757373050475,
     "user": {
      "displayName": "Matias Barreto (devenirfantasma)",
      "userId": "07072764524169679349"
     },
     "user_tz": 180
    },
    "id": "gK47Nx9pFzD1",
    "outputId": "2c8b4e49-7f2e-480d-c85e-03f6c37d701f"
   },
   "outputs": [
    {
     "name": "stdout",
     "output_type": "stream",
     "text": [
      "\u001b[?25l     \u001b[90m━━━━━━━━━━━━━━━━━━━━━━━━━━━━━━━━━━━━━━━━\u001b[0m \u001b[32m0.0/67.3 kB\u001b[0m \u001b[31m?\u001b[0m eta \u001b[36m-:--:--\u001b[0m\r\u001b[2K     \u001b[90m━━━━━━━━━━━━━━━━━━━━━━━━━━━━━━━━━━━━━━━━\u001b[0m \u001b[32m67.3/67.3 kB\u001b[0m \u001b[31m6.2 MB/s\u001b[0m eta \u001b[36m0:00:00\u001b[0m\n",
      "\u001b[?25h  Installing build dependencies ... \u001b[?25l\u001b[?25hdone\n",
      "  Getting requirements to build wheel ... \u001b[?25l\u001b[?25hdone\n",
      "  Preparing metadata (pyproject.toml) ... \u001b[?25l\u001b[?25hdone\n",
      "\u001b[2K   \u001b[90m━━━━━━━━━━━━━━━━━━━━━━━━━━━━━━━━━━━━━━━━\u001b[0m \u001b[32m19.8/19.8 MB\u001b[0m \u001b[31m63.7 MB/s\u001b[0m eta \u001b[36m0:00:00\u001b[0m\n",
      "\u001b[2K   \u001b[90m━━━━━━━━━━━━━━━━━━━━━━━━━━━━━━━━━━━━━━━━\u001b[0m \u001b[32m284.2/284.2 kB\u001b[0m \u001b[31m26.7 MB/s\u001b[0m eta \u001b[36m0:00:00\u001b[0m\n",
      "\u001b[2K   \u001b[90m━━━━━━━━━━━━━━━━━━━━━━━━━━━━━━━━━━━━━━━━\u001b[0m \u001b[32m1.9/1.9 MB\u001b[0m \u001b[31m75.2 MB/s\u001b[0m eta \u001b[36m0:00:00\u001b[0m\n",
      "\u001b[2K   \u001b[90m━━━━━━━━━━━━━━━━━━━━━━━━━━━━━━━━━━━━━━━━\u001b[0m \u001b[32m103.3/103.3 kB\u001b[0m \u001b[31m9.2 MB/s\u001b[0m eta \u001b[36m0:00:00\u001b[0m\n",
      "\u001b[2K   \u001b[90m━━━━━━━━━━━━━━━━━━━━━━━━━━━━━━━━━━━━━━━━\u001b[0m \u001b[32m16.5/16.5 MB\u001b[0m \u001b[31m107.5 MB/s\u001b[0m eta \u001b[36m0:00:00\u001b[0m\n",
      "\u001b[2K   \u001b[90m━━━━━━━━━━━━━━━━━━━━━━━━━━━━━━━━━━━━━━━━\u001b[0m \u001b[32m72.5/72.5 kB\u001b[0m \u001b[31m7.9 MB/s\u001b[0m eta \u001b[36m0:00:00\u001b[0m\n",
      "\u001b[2K   \u001b[90m━━━━━━━━━━━━━━━━━━━━━━━━━━━━━━━━━━━━━━━━\u001b[0m \u001b[32m105.4/105.4 kB\u001b[0m \u001b[31m12.3 MB/s\u001b[0m eta \u001b[36m0:00:00\u001b[0m\n",
      "\u001b[2K   \u001b[90m━━━━━━━━━━━━━━━━━━━━━━━━━━━━━━━━━━━━━━━━\u001b[0m \u001b[32m71.6/71.6 kB\u001b[0m \u001b[31m8.1 MB/s\u001b[0m eta \u001b[36m0:00:00\u001b[0m\n",
      "\u001b[2K   \u001b[90m━━━━━━━━━━━━━━━━━━━━━━━━━━━━━━━━━━━━━━━━\u001b[0m \u001b[32m510.8/510.8 kB\u001b[0m \u001b[31m42.4 MB/s\u001b[0m eta \u001b[36m0:00:00\u001b[0m\n",
      "\u001b[2K   \u001b[90m━━━━━━━━━━━━━━━━━━━━━━━━━━━━━━━━━━━━━━━━\u001b[0m \u001b[32m4.7/4.7 MB\u001b[0m \u001b[31m122.8 MB/s\u001b[0m eta \u001b[36m0:00:00\u001b[0m\n",
      "\u001b[2K   \u001b[90m━━━━━━━━━━━━━━━━━━━━━━━━━━━━━━━━━━━━━━━━\u001b[0m \u001b[32m452.2/452.2 kB\u001b[0m \u001b[31m44.9 MB/s\u001b[0m eta \u001b[36m0:00:00\u001b[0m\n",
      "\u001b[2K   \u001b[90m━━━━━━━━━━━━━━━━━━━━━━━━━━━━━━━━━━━━━━━━\u001b[0m \u001b[32m46.0/46.0 kB\u001b[0m \u001b[31m4.6 MB/s\u001b[0m eta \u001b[36m0:00:00\u001b[0m\n",
      "\u001b[2K   \u001b[90m━━━━━━━━━━━━━━━━━━━━━━━━━━━━━━━━━━━━━━━━\u001b[0m \u001b[32m86.8/86.8 kB\u001b[0m \u001b[31m9.6 MB/s\u001b[0m eta \u001b[36m0:00:00\u001b[0m\n",
      "\u001b[?25h  Building wheel for pypika (pyproject.toml) ... \u001b[?25l\u001b[?25hdone\n"
     ]
    }
   ],
   "source": [
    "!pip install -qq chromadb"
   ]
  },
  {
   "cell_type": "code",
   "execution_count": null,
   "metadata": {
    "executionInfo": {
     "elapsed": 4738,
     "status": "ok",
     "timestamp": 1757373154210,
     "user": {
      "displayName": "Matias Barreto (devenirfantasma)",
      "userId": "07072764524169679349"
     },
     "user_tz": 180
    },
    "id": "m1r1jFA5tDtk"
   },
   "outputs": [],
   "source": [
    "!pip install -q sentence-transformers"
   ]
  },
  {
   "cell_type": "code",
   "execution_count": null,
   "metadata": {
    "colab": {
     "base_uri": "https://localhost:8080/",
     "height": 36
    },
    "executionInfo": {
     "elapsed": 3542,
     "status": "ok",
     "timestamp": 1757373226333,
     "user": {
      "displayName": "Matias Barreto (devenirfantasma)",
      "userId": "07072764524169679349"
     },
     "user_tz": 180
    },
    "id": "sYNb01qiHpIu",
    "outputId": "0223d104-38c2-4457-c4df-53c32d219c00"
   },
   "outputs": [
    {
     "data": {
      "application/vnd.google.colaboratory.intrinsic+json": {
       "type": "string"
      },
      "text/plain": [
       "'2.8.0+cu126'"
      ]
     },
     "execution_count": 3,
     "metadata": {},
     "output_type": "execute_result"
    }
   ],
   "source": [
    "import torch\n",
    "torch.__version__"
   ]
  },
  {
   "cell_type": "code",
   "execution_count": 4,
   "metadata": {
    "colab": {
     "base_uri": "https://localhost:8080/"
    },
    "executionInfo": {
     "elapsed": 31,
     "status": "ok",
     "timestamp": 1757373295436,
     "user": {
      "displayName": "Matias Barreto (devenirfantasma)",
      "userId": "07072764524169679349"
     },
     "user_tz": 180
    },
    "id": "pJgVpNblHyaf",
    "outputId": "83f8a11c-8fc2-41d7-f107-935f731a80d0"
   },
   "outputs": [
    {
     "data": {
      "text/plain": [
       "True"
      ]
     },
     "execution_count": 4,
     "metadata": {},
     "output_type": "execute_result"
    }
   ],
   "source": [
    "torch.cuda.is_available()"
   ]
  },
  {
   "cell_type": "markdown",
   "metadata": {
    "id": "DbcKIH6Vv1Q1"
   },
   "source": [
    "## ¿Qué son los Embeddings?\n",
    "\n",
    "Imaginen que queremos que una computadora entienda el significado de las palabras como lo hacemos nosotros. Los **embeddings** son la forma en que convertimos texto (como \"sequía\", \"riego\", \"fertilizante\") en números que la computadora puede procesar y comparar.\n",
    "\n",
    "Cada palabra o frase se convierte en una lista de números llamada **vector**. Palabras con significados similares tendrán vectores parecidos. Por ejemplo:\n",
    "- \"sequía\" y \"falta de lluvia\" tendrán vectores similares\n",
    "- \"fertilizante\" y \"nutriente\" también serán parecidos\n",
    "\n",
    "Esto nos permite encontrar información relacionada automáticamente."
   ]
  },
  {
   "cell_type": "markdown",
   "metadata": {
    "id": "VUO7HC3gEvBX"
   },
   "source": [
    "## Ejercicio Práctico: Base de Conocimiento Agrícola\n",
    "\n",
    "Vamos a crear una base de conocimiento con consultas técnicas de productores agropecuarios argentinos. Esto nos permitirá buscar información por significado, no solo por palabras exactas.\n",
    "\n",
    "**Pasos que seguiremos:**\n",
    "\n",
    "1. Crear una base de datos vectorial (ChromaDB)\n",
    "2. Cargar consultas técnicas de productores\n",
    "3. Realizar búsquedas por significado (búsqueda semántica)\n",
    "4. Agregar más consultas y probar nuevas búsquedas"
   ]
  },
  {
   "cell_type": "markdown",
   "metadata": {
    "id": "Y1RAflQk5PSm"
   },
   "source": [
    "### 1. ¿Qué es ChromaDB?\n",
    "\n",
    "ChromaDB es una base de datos especializada en almacenar vectores (listas de números que representan el significado de textos). Es como tener una biblioteca inteligente donde podemos encontrar información por su significado, no solo por palabras exactas.\n",
    "\n",
    "Es una herramienta gratuita y fácil de usar, perfecta para empezar a experimentar con búsquedas inteligentes."
   ]
  },
  {
   "cell_type": "code",
   "execution_count": null,
   "metadata": {
    "id": "QH_GpfJSG_AG"
   },
   "outputs": [],
   "source": [
    "import chromadb\n",
    "\n",
    "# Creamos la base de datos in-memory para este ejercicio.\n",
    "client = chromadb.Client()"
   ]
  },
  {
   "cell_type": "markdown",
   "metadata": {
    "id": "LtwUc6eN3BHW"
   },
   "source": [
    "### 2. Creando nuestra primera colección\n",
    "\n",
    "Una **colección** es como una carpeta donde guardamos documentos relacionados. En nuestro caso, guardaremos consultas técnicas de productores agropecuarios.\n",
    "\n",
    "ChromaDB se encarga automáticamente de:\n",
    "- Convertir nuestros textos en vectores\n",
    "- Organizarlos para búsquedas rápidas\n",
    "- Permitirnos agregar, leer, actualizar y eliminar información"
   ]
  },
  {
   "cell_type": "code",
   "execution_count": null,
   "metadata": {
    "id": "WYKcyAkrwQxB"
   },
   "outputs": [],
   "source": [
    "client.list_collections()"
   ]
  },
  {
   "cell_type": "code",
   "execution_count": null,
   "metadata": {
    "id": "abZ1thORHDha"
   },
   "outputs": [],
   "source": [
    "# Creamos nuestra primera colección para consultas agrícolas\n",
    "collection = client.create_collection(\n",
    "    name=\"ConsultasAgricolas\",\n",
    ")"
   ]
  },
  {
   "cell_type": "code",
   "execution_count": null,
   "metadata": {
    "id": "en73zZBAB2G5"
   },
   "outputs": [],
   "source": [
    "client.list_collections()"
   ]
  },
  {
   "cell_type": "markdown",
   "metadata": {
    "id": "6_l3D0mLSTMC"
   },
   "source": [
    "**¿Cómo funciona esto?**\n",
    "\n",
    "Cuando agregamos texto a ChromaDB, automáticamente:\n",
    "1. Convierte cada frase en una lista de números (vector)\n",
    "2. Guarda estos números de forma organizada\n",
    "3. Nos permite buscar frases similares por significado\n",
    "\n",
    "Por defecto usa un modelo llamado **all-MiniLM-L6-v2** que funciona bien con inglés, pero después veremos uno mejor para español."
   ]
  },
  {
   "cell_type": "code",
   "execution_count": null,
   "metadata": {
    "id": "lUTPmtsGxAO0"
   },
   "outputs": [],
   "source": [
    "# Consultas técnicas reales de productores argentinos\n",
    "consultas_productores = [\n",
    "    \"Mi maíz tiene las hojas amarillas y no sé si es falta de nitrógeno o exceso de agua.\",\n",
    "    \"¿Cuándo es el mejor momento para aplicar herbicida en soja en la zona núcleo?\",\n",
    "    \"Los rindes de trigo están siendo muy bajos esta campaña, ¿puede ser por la sequía?\",\n",
    "    \"Necesito saber si conviene hacer un análisis de suelo antes de la siembra.\"\n",
    "]\n",
    "\n",
    "# ChromaDB convierte automáticamente cada consulta en vectores\n",
    "collection.add(\n",
    "    documents=consultas_productores,\n",
    "    metadatas=[{\"region\": \"zona-nucleo\"}, {\"region\": \"zona-nucleo\"}, {\"region\": \"pampa-humeda\"}, {\"region\": \"general\"}],\n",
    "    ids=[\"consulta1\", \"consulta2\", \"consulta3\", \"consulta4\"],\n",
    ")"
   ]
  },
  {
   "cell_type": "code",
   "execution_count": null,
   "metadata": {
    "id": "tIoVSZhdBytJ"
   },
   "outputs": [],
   "source": [
    "# Verificamos que se cargaron correctamente las consultas\n",
    "collection.count()"
   ]
  },
  {
   "cell_type": "code",
   "execution_count": null,
   "metadata": {
    "id": "O4U3mFrH9k_0"
   },
   "outputs": [],
   "source": [
    "# Vemos todas las consultas cargadas\n",
    "collection.get()"
   ]
  },
  {
   "cell_type": "code",
   "execution_count": null,
   "metadata": {
    "id": "v4U81WaaHLjN"
   },
   "outputs": [],
   "source": [
    "# También podemos usar el id para obtener un documento específico.\n",
    "collection.get('doc2')"
   ]
  },
  {
   "cell_type": "markdown",
   "metadata": {
    "id": "K0IfgDDKRfwN"
   },
   "source": [
    "### 3. Búsqueda Semántica: Encontrar por Significado"
   ]
  },
  {
   "cell_type": "code",
   "execution_count": null,
   "metadata": {
    "id": "ZZtHi9koHQTS"
   },
   "outputs": [],
   "source": [
    "# Búsqueda inteligente: encuentra consultas similares por significado\n",
    "pregunta_nueva = \"Mi trigo está rindiendo poco, ¿será por falta de lluvia?\"\n",
    "\n",
    "results = collection.query(\n",
    "    query_texts=[pregunta_nueva],\n",
    "    n_results=3,\n",
    ")\n",
    "\n",
    "print(\"CONSULTA:\", pregunta_nueva)\n",
    "print(\"\\nCONSULTAS SIMILARES ENCONTRADAS:\")\n",
    "for i, doc in enumerate(results['documents'][0]):\n",
    "    print(f\"{i+1}. {doc}\")\n",
    "\n",
    "results"
   ]
  },
  {
   "cell_type": "code",
   "execution_count": null,
   "metadata": {
    "id": "7Eh_Yi1n-D70"
   },
   "outputs": [],
   "source": [
    "# Comparemos con una búsqueda tradicional por palabras exactas\n",
    "collection.get(where_document={\"$contains\": \"trigo\"})"
   ]
  },
  {
   "cell_type": "markdown",
   "metadata": {
    "id": "_Hvc--Qe-_3s"
   },
   "source": [
    "### 4. Agregar más consultas de productores\n",
    "\n",
    "Simulemos que llegan más consultas técnicas y veamos cómo mejora nuestro sistema."
   ]
  },
  {
   "cell_type": "code",
   "execution_count": null,
   "metadata": {
    "id": "6uYYl1q7m4Vu"
   },
   "outputs": [],
   "source": [
    "nuevas_consultas = [\n",
    "    \"La soja está con hojas amarillentas, puede ser deficiencia nutricional?\",\n",
    "    \"En qué momento del cultivo de maíz es mejor aplicar los agroquímicos?\",\n",
    "    \"Este año mi cosecha de trigo fue muy mala, creo que fue por la falta de precipitaciones.\",\n",
    "    \"¿Vale la pena hacer estudios de tierra antes de plantar?\",\n",
    "    \"El maíz no está creciendo bien, las hojas se ven pálidas, ¿puede ser falta de fertilizante?\"\n",
    "]"
   ]
  },
  {
   "cell_type": "code",
   "execution_count": null,
   "metadata": {
    "id": "pRSRTXVtmWub"
   },
   "outputs": [],
   "source": [
    "def preparar_nuevas_consultas(consultas, region, cantidad_actual):\n",
    "    \"\"\"Función para organizar las nuevas consultas antes de guardarlas\"\"\"\n",
    "    metadatos = [{\"region\": region} for _ in consultas]\n",
    "    nuevos_ids = [f\"consulta{cantidad_actual + i + 1}\" for i in range(len(consultas))]\n",
    "\n",
    "    return {\n",
    "        \"documents\": consultas,\n",
    "        \"metadatas\": metadatos,\n",
    "        \"ids\": nuevos_ids\n",
    "    }"
   ]
  },
  {
   "cell_type": "code",
   "execution_count": null,
   "metadata": {
    "id": "MnCq2fLpmZQ4"
   },
   "outputs": [],
   "source": [
    "cantidad_actual = collection.count()\n",
    "\n",
    "# Preparamos las nuevas consultas de la región pampeana\n",
    "nuevas_organizadas = preparar_nuevas_consultas(nuevas_consultas, \"pampa-humeda\", cantidad_actual)\n",
    "\n",
    "# Las agregamos a nuestra base de datos\n",
    "collection.add(**nuevas_organizadas)"
   ]
  },
  {
   "cell_type": "code",
   "execution_count": null,
   "metadata": {
    "id": "Wov46htfnRKe"
   },
   "outputs": [],
   "source": [
    "# Ahora tenemos más consultas en nuestra base de datos\n",
    "collection.get()"
   ]
  },
  {
   "cell_type": "code",
   "execution_count": null,
   "metadata": {
    "id": "nYiUu_UC_o0k"
   },
   "outputs": [],
   "source": [
    "pregunta_nueva = \"Mi cultivo tiene problemas de nutrición, las plantas se ven débiles\"\n",
    "\n",
    "results = collection.query(\n",
    "    query_texts=[pregunta_nueva],\n",
    "    n_results=3\n",
    ")\n",
    "\n",
    "print(\"NUEVA CONSULTA:\", pregunta_nueva)\n",
    "print(\"\\nCONSULTAS SIMILARES ENCONTRADAS:\")\n",
    "for i, doc in enumerate(results['documents'][0]):\n",
    "    print(f\"{i+1}. {doc}\")\n",
    "\n",
    "print(\"\\n--- RESULTADOS COMPLETOS ---\")\n",
    "results"
   ]
  },
  {
   "cell_type": "code",
   "execution_count": null,
   "metadata": {
    "id": "wQa09zVLUscL"
   },
   "outputs": [],
   "source": [
    "print(\"BÚSQUEDA POR PALABRAS EXACTAS:\")\n",
    "# Buscamos por palabras específicas\n",
    "collection.get(where_document={\"$or\": [{\"$contains\": \"nutrición\"}, {\"$contains\": \"fertilizante\"}]})"
   ]
  },
  {
   "cell_type": "markdown",
   "metadata": {
    "id": "EvYvF9duRso5"
   },
   "source": [
    "**¿Qué observamos?**\n",
    "\n",
    "La búsqueda semántica encuentra consultas relacionadas aunque usemos palabras diferentes. Por ejemplo, \"plantas débiles\" puede encontrar consultas sobre \"hojas amarillas\" porque ambas se refieren a problemas del cultivo.\n",
    "\n",
    "Pero hay un problema: el modelo por defecto está entrenado principalmente en inglés, así que no entiende completamente las sutilezas del español técnico agrícola."
   ]
  },
  {
   "cell_type": "markdown",
   "metadata": {
    "id": "ITIt1-UoWqLb"
   },
   "source": [
    "## Mejorando el Sistema: Modelo Multilenguaje\n",
    "\n",
    "Para trabajar mejor con español técnico, vamos a cambiar a un modelo especializado que entiende múltiples idiomas, incluido el español agrícola argentino."
   ]
  },
  {
   "cell_type": "markdown",
   "metadata": {
    "id": "Q-v6OPhFYGXq"
   },
   "source": [
    "### 5. Modelo de Embeddings Multilenguaje\n",
    "\n",
    "El modelo `multilingual-e5-large` entiende 94 idiomas diferentes, incluido el español y sus variantes técnicas. Esto significa que podrá entender mejor términos como \"sequía\", \"rinde\", \"siembra\", etc."
   ]
  },
  {
   "cell_type": "code",
   "execution_count": null,
   "metadata": {
    "id": "uamPEhqjEXGW"
   },
   "outputs": [],
   "source": [
    "from chromadb.utils import embedding_functions\n",
    "\n",
    "# Cargamos un modelo que entiende mejor el español técnico\n",
    "modelo_multilenguaje = embedding_functions.SentenceTransformerEmbeddingFunction(\n",
    "    model_name=\"intfloat/multilingual-e5-large\"\n",
    ")"
   ]
  },
  {
   "cell_type": "markdown",
   "metadata": {
    "id": "fmf1a8_9aAZ8"
   },
   "source": [
    "### 6. Nueva colección con mejor comprensión del español"
   ]
  },
  {
   "cell_type": "code",
   "execution_count": null,
   "metadata": {
    "id": "Z8piXDc2FvHD"
   },
   "outputs": [],
   "source": [
    "# client.delete_collection(name=\"comments_multilingual\")"
   ]
  },
  {
   "cell_type": "code",
   "execution_count": null,
   "metadata": {
    "id": "cI0QgLADFGkd"
   },
   "outputs": [],
   "source": [
    "collection_mejorada = client.get_or_create_collection(\n",
    "    \"ConsultasAgricolasMultilenguaje\",\n",
    "    embedding_function=modelo_multilenguaje,\n",
    "    metadata={\"hnsw:space\": \"cosine\"}  # Mejor métrica para comparar significados\n",
    ")"
   ]
  },
  {
   "cell_type": "code",
   "execution_count": null,
   "metadata": {
    "id": "CpEvlOu3unXn"
   },
   "outputs": [],
   "source": [
    "client.list_collections()"
   ]
  },
  {
   "cell_type": "code",
   "execution_count": null,
   "metadata": {
    "id": "YtY6Ynh-FMeN"
   },
   "outputs": [],
   "source": [
    "# Cargamos todas las consultas en la nueva colección mejorada\n",
    "collection_mejorada.add(\n",
    "    documents=consultas_productores,\n",
    "    metadatas=[{\"region\": \"zona-nucleo\"}, {\"region\": \"zona-nucleo\"}, {\"region\": \"pampa-humeda\"}, {\"region\": \"general\"}],\n",
    "    ids=[\"consulta1\", \"consulta2\", \"consulta3\", \"consulta4\"],\n",
    ")\n",
    "\n",
    "collection_mejorada.add(\n",
    "    documents=nuevas_consultas,\n",
    "    metadatas=[{\"region\": \"pampa-humeda\"}, {\"region\": \"pampa-humeda\"}, {\"region\": \"pampa-humeda\"}, {\"region\": \"pampa-humeda\"}, {\"region\": \"pampa-humeda\"}],\n",
    "    ids=[\"consulta5\", \"consulta6\", \"consulta7\", \"consulta8\", \"consulta9\"],\n",
    ")"
   ]
  },
  {
   "cell_type": "markdown",
   "metadata": {
    "id": "qK1Bgi4tagoF"
   },
   "source": [
    "### 7. Probando el sistema mejorado"
   ]
  },
  {
   "cell_type": "code",
   "execution_count": null,
   "metadata": {
    "id": "JDHF25zTHsHA"
   },
   "outputs": [],
   "source": [
    "pregunta_test = \"Mi cultivo no está creciendo bien, puede ser falta de fertilización?\"\n",
    "\n",
    "results = collection_mejorada.query(\n",
    "    query_texts=[pregunta_test],\n",
    "    n_results=3\n",
    ")\n",
    "\n",
    "print(\"CONSULTA DE PRUEBA:\", pregunta_test)\n",
    "print(\"\\nCONSULTAS MÁS SIMILARES:\")\n",
    "for i, doc in enumerate(results['documents'][0]):\n",
    "    print(f\"{i+1}. {doc}\")\n",
    "\n",
    "results"
   ]
  },
  {
   "cell_type": "markdown",
   "metadata": {
    "id": "yhYPN7sAZQc6"
   },
   "source": [
    "**Excelente!** Ahora el sistema entiende mejor las relaciones entre conceptos en español. Puede conectar \"no está creciendo bien\" con \"hojas amarillas\", \"deficiencia nutricional\" y \"falta de fertilizante\" porque comprende que todos se refieren a problemas similares del cultivo."
   ]
  },
  {
   "cell_type": "markdown",
   "metadata": {
    "id": "NMdxxJv1-YCF"
   },
   "source": [
    "## El Siguiente Paso: RAG (Retrieval Augmented Generation)\n",
    "\n",
    "**¿Qué aprendimos hoy?**\n",
    "- Los embeddings convierten texto en números que las computadoras pueden comparar\n",
    "- Las bases de datos vectoriales nos permiten buscar por significado, no solo por palabras exactas\n",
    "- Podemos encontrar consultas similares automáticamente, aunque usen palabras diferentes\n",
    "\n",
    "**¿Qué viene después?**\n",
    "\n",
    "Lo que hicimos hoy es la **primera mitad de RAG**. RAG significa \"Generación Aumentada por Recuperación\" y funciona así:\n",
    "\n",
    "1. **RECUPERAR** (lo que ya hicimos): Buscar información relevante en nuestra base de datos vectorial\n",
    "2. **GENERAR** (próxima clase): Usar esa información para que un LLM genere respuestas personalizadas\n",
    "\n",
    "### Ejemplo de RAG completo:\n",
    "\n",
    "**Consulta del productor:** \"Mi soja tiene hojas amarillas, ¿qué puede ser?\"\n",
    "\n",
    "**Paso 1 - Recuperar (lo que ya sabemos hacer):**\n",
    "- Buscar consultas similares en nuestra base de datos\n",
    "- Encontrar: \"La soja está con hojas amarillentas, puede ser deficiencia nutricional?\"\n",
    "\n",
    "**Paso 2 - Generar (próxima clase):**\n",
    "- Tomar esa información relevante\n",
    "- Pasársela a GPT/Claude/Gemini junto con la consulta original\n",
    "- El LLM genera una respuesta técnica personalizada usando el contexto encontrado\n",
    "\n",
    "### ¿Por qué es importante RAG?\n",
    "- **Información actualizada**: Los LLMs solo conocen hasta su fecha de entrenamiento, pero RAG puede usar datos nuevos\n",
    "- **Información específica**: Podemos usar nuestra propia base de conocimiento técnico\n",
    "- **Respuestas precisas**: En lugar de respuestas genéricas, obtenemos respuestas basadas en casos reales similares\n",
    "\n",
    "**La semana próxima:** Conectaremos estas búsquedas vectoriales con las APIs de OpenAI/Claude que ya conocen para crear un sistema completo de asistencia técnica agrícola."
   ]
  },
  {
   "cell_type": "code",
   "execution_count": null,
   "metadata": {
    "id": "3OgWpH8m-YCG"
   },
   "outputs": [],
   "source": [
    "# Para la próxima clase: ejemplo simple de cómo será RAG\n",
    "def ejemplo_rag_simple(consulta_productor):\n",
    "    \"\"\"Esta función muestra cómo funcionará RAG completo la próxima semana\"\"\"\n",
    "\n",
    "    print(\"=== SIMULACIÓN RAG ===\")\n",
    "    print(f\"Consulta del productor: {consulta_productor}\")\n",
    "\n",
    "    # PASO 1: RECUPERAR (lo que ya sabemos hacer)\n",
    "    print(\"\\n1. RECUPERANDO información similar...\")\n",
    "    results = collection_mejorada.query(\n",
    "        query_texts=[consulta_productor],\n",
    "        n_results=2\n",
    "    )\n",
    "\n",
    "    contexto = results['documents'][0]\n",
    "    print(f\"Consultas similares encontradas: {len(contexto)}\")\n",
    "    for i, doc in enumerate(contexto):\n",
    "        print(f\"   - {doc}\")\n",
    "\n",
    "    # PASO 2: GENERAR (próxima semana aprenderemos esto)\n",
    "    print(\"\\n2. GENERANDO respuesta personalizada...\")\n",
    "    print(\"   (Próxima clase: usaremos OpenAI/Claude con este contexto)\")\n",
    "    print(\"   Respuesta automática basada en casos similares\")\n",
    "\n",
    "    return contexto\n",
    "\n",
    "# Probemos el concepto\n",
    "ejemplo_rag_simple(\"¿Cuándo debo aplicar fertilizante a mi cultivo de maíz?\")"
   ]
  }
 ],
 "metadata": {
  "accelerator": "GPU",
  "colab": {
   "gpuType": "T4",
   "provenance": []
  },
  "kernelspec": {
   "display_name": "Python 3",
   "name": "python3"
  },
  "language_info": {
   "name": "python"
  }
 },
 "nbformat": 4,
 "nbformat_minor": 0
}
