{
 "cells": [
  {
   "cell_type": "markdown",
   "metadata": {
    "id": "NFQcSu1te3Kh"
   },
   "source": [
    "# Integración de Datos Externos: APIs Climáticas + Google Gemini\n",
    "\n",
    "En esta lección aprenderemos a combinar datos climáticos en tiempo real con análisis de IA usando Google Gemini API, creando herramientas prácticas para la toma de decisiones agrícolas."
   ]
  },
  {
   "cell_type": "markdown",
   "metadata": {
    "id": "bl8wcjhPe3Ki"
   },
   "source": [
    "## Configuración de APIs: Clima + Google Gemini\n",
    "\n",
    "Vamos a utilizar dos APIs:\n",
    "1. **OpenWeatherMap**: Para datos climáticos en tiempo real\n",
    "2. **Google Gemini**: Para análisis inteligente de los datos climáticos\n",
    "\n",
    "La mayoría de las APIs requieren una clave de API (como una contraseña única)."
   ]
  },
  {
   "cell_type": "code",
   "execution_count": null,
   "metadata": {
    "id": "iiEEIis1e3Kj"
   },
   "outputs": [],
   "source": [
    "# Instalación de librerías\n",
    "%pip install -U -q google-genai python-dotenv\n",
    "import requests\n",
    "import matplotlib.pyplot as plt\n",
    "from IPython.display import Markdown"
   ]
  },
  {
   "cell_type": "code",
   "execution_count": null,
   "metadata": {
    "id": "CtvoroBYe3Kk"
   },
   "outputs": [],
   "source": [
    "# Configuración de Google Gemini API\n",
    "from google.colab import userdata\n",
    "import os\n",
    "from google import genai\n",
    "from google.genai import types\n",
    "from dotenv import load_dotenv\n",
    "\n",
    "load_dotenv()  # Cargar variables de entorno desde un archivo .env si existe\n",
    "\n",
    "try:\n",
    "    # En Colab\n",
    "    GOOGLE_API_KEY = userdata.get('GOOGLE_API_KEY')\n",
    "except:\n",
    "    # En entorno local\n",
    "    GOOGLE_API_KEY = os.getenv('GOOGLE_API_KEY')\n",
    "\n",
    "if not GOOGLE_API_KEY:\n",
    "    raise ValueError('GOOGLE_API_KEY no encontrada. Configura tu clave de Google AI Studio')\n",
    "\n",
    "# Inicializar cliente Gemini\n",
    "cliente_gemini = genai.Client(api_key=GOOGLE_API_KEY)\n",
    "MODEL_ID = \"gemini-2.5-pro\"\n",
    "\n",
    "print(\"✅ Google Gemini API configurada correctamente\")"
   ]
  },
  {
   "cell_type": "code",
   "execution_count": null,
   "metadata": {
    "id": "MEVs58KZhXqg"
   },
   "outputs": [],
   "source": [
    "# API key de OpenWeatherMap (pública para el curso)\n",
    "api_key = \"93fd77ad60c515e9c1dce85692ef4529\""
   ]
  },
  {
   "cell_type": "markdown",
   "metadata": {
    "id": "K0vf42a1e3Kk"
   },
   "source": [
    "## Obtención de Datos Climáticos\n",
    "\n",
    "Llamamos a la API del clima pasando las coordenadas y la clave de API:"
   ]
  },
  {
   "cell_type": "code",
   "execution_count": null,
   "metadata": {
    "id": "drjVJf1ahGqi"
   },
   "outputs": [],
   "source": [
    "#url = f\"http://api.openweathermap.org/data/2.5/weather?q=Buenos+Aires&appid={api_key}\""
   ]
  },
  {
   "cell_type": "code",
   "execution_count": null,
   "metadata": {
    "id": "bG_SocCLiUDm"
   },
   "outputs": [],
   "source": [
    "url = f\"http://api.openweathermap.org/data/2.5/weather?q=Mar+del+Plata&units=metric&appid={api_key}\""
   ]
  },
  {
   "cell_type": "code",
   "execution_count": null,
   "metadata": {
    "id": "llSeMEFXe3Kl"
   },
   "outputs": [],
   "source": [
    "# Obtener respuesta de la API climática\n",
    "response = requests.get(url)\n",
    "data = response.json()\n",
    "\n",
    "print(\"Datos climáticos obtenidos:\")\n",
    "print(data)"
   ]
  },
  {
   "cell_type": "markdown",
   "metadata": {
    "id": "nkKHpbeke3Kl"
   },
   "source": [
    "## Procesamiento de Datos Climáticos\n",
    "\n",
    "Extraemos la información relevante del JSON y la formateamos para análisis agrícola:"
   ]
  },
  {
   "cell_type": "code",
   "execution_count": null,
   "metadata": {
    "id": "JE22zGffe3Kl"
   },
   "outputs": [],
   "source": [
    "# Extraer datos específicos\n",
    "temperatura = data['main']['temp']\n",
    "descripcion = data['weather'][0]['description']\n",
    "velocidad_viento = data['wind']['speed']\n",
    "humedad = data['main']['humidity']\n",
    "presion = data['main']['pressure']\n",
    "\n",
    "# Mostrar datos organizados\n",
    "print(\"=== CONDICIONES CLIMÁTICAS ACTUALES ===\")\n",
    "print(f\"Temperatura: {temperatura}°C\")\n",
    "print(f\"Descripción: {descripcion}\")\n",
    "print(f\"Velocidad del viento: {velocidad_viento} m/s\")\n",
    "print(f\"Humedad relativa: {humedad}%\")\n",
    "print(f\"Presión atmosférica: {presion} hPa\")"
   ]
  },
  {
   "cell_type": "code",
   "execution_count": null,
   "metadata": {
    "id": "d8-KJChje3Kl"
   },
   "outputs": [],
   "source": [
    "# Crear informe climático estructurado\n",
    "informe_clima = f\"\"\"REPORTE CLIMÁTICO - REGIÓN PAMPEANA\n",
    "Fecha: Tiempo actual\n",
    "Ubicación: Buenos Aires, Argentina\n",
    "\n",
    "CONDICIONES METEOROLÓGICAS:\n",
    "- Temperatura: {temperatura}°C\n",
    "- Condición general: {descripcion}\n",
    "- Humedad relativa: {humedad}%\n",
    "- Velocidad del viento: {velocidad_viento} m/s\n",
    "- Presión atmosférica: {presion} hPa\n",
    "\"\"\"\n",
    "\n",
    "print(informe_clima)"
   ]
  },
  {
   "cell_type": "markdown",
   "metadata": {
    "id": "Sr7g9iTRe3Km"
   },
   "source": [
    "## Análisis Agronómico con Google Gemini\n",
    "\n",
    "Ahora usamos Gemini para analizar los datos climáticos y generar recomendaciones agrícolas específicas:"
   ]
  },
  {
   "cell_type": "code",
   "execution_count": null,
   "metadata": {
    "id": "rg0Utq0Pe3Km"
   },
   "outputs": [],
   "source": [
    "# Función para consultar Gemini\n",
    "def consultar_gemini(prompt):\n",
    "    response = cliente_gemini.models.generate_content(\n",
    "        model=MODEL_ID,\n",
    "        contents=[prompt]\n",
    "    )\n",
    "    return response.text\n",
    "\n",
    "# Análisis agronómico con Gemini\n",
    "prompt_agricola = f\"\"\"Como agrónomo especialista en la región pampeana argentina, analiza las siguientes condiciones climáticas y proporciona recomendaciones técnicas específicas:\n",
    "\n",
    "{informe_clima}\n",
    "\n",
    "Incluye en tu análisis:\n",
    "1. ¿Es un buen momento para aplicaciones de agroquímicos?\n",
    "2. ¿Qué precauciones deben tomar los operarios agrícolas?\n",
    "3. ¿Cómo afectan estas condiciones a los cultivos de soja y maíz?\n",
    "4. ¿Se recomienda riego en estas condiciones?\n",
    "5. Recomendaciones específicas para las próximas 24-48 horas\n",
    "\n",
    "Responde de forma técnica pero práctica.\"\"\"\n",
    "\n",
    "respuesta_gemini = consultar_gemini(prompt_agricola)\n",
    "print(\"=== ANÁLISIS AGRONÓMICO CON GEMINI ===\")\n",
    "display(Markdown(respuesta_gemini))"
   ]
  },
  {
   "cell_type": "markdown",
   "metadata": {
    "id": "OxF45EFMe3Km"
   },
   "source": [
    "## Visualización de Datos Climáticos\n",
    "\n",
    "Creamos gráficos para mejor comprensión de las condiciones actuales:"
   ]
  },
  {
   "cell_type": "code",
   "execution_count": null,
   "metadata": {
    "id": "Uj_Pe_d1e3Km"
   },
   "outputs": [],
   "source": [
    "# Crear gráfico de condiciones actuales\n",
    "fig, ax = plt.subplots(figsize=(12, 6))\n",
    "\n",
    "parametros = ['Temperatura (°C)', 'Humedad (%)', 'Viento (m/s)', 'Presión (hPa)']\n",
    "valores = [temperatura, humedad, velocidad_viento, presion/10]  # Presión dividida por 10 para escala\n",
    "colores = ['red', 'blue', 'green', 'orange']\n",
    "\n",
    "bars = ax.bar(parametros, valores, color=colores)\n",
    "ax.set_ylabel('Valor')\n",
    "ax.set_title('Condiciones Climáticas Actuales - Buenos Aires')\n",
    "\n",
    "# Agregar valores sobre las barras\n",
    "for bar, valor in zip(bars, [temperatura, humedad, velocidad_viento, presion]):\n",
    "    height = bar.get_height()\n",
    "    ax.text(bar.get_x() + bar.get_width()/2., height + 0.5,\n",
    "            f'{valor:.1f}',\n",
    "            ha='center', va='bottom')\n",
    "\n",
    "plt.xticks(rotation=45, ha='right')\n",
    "plt.tight_layout()\n",
    "plt.show()"
   ]
  },
  {
   "cell_type": "markdown",
   "metadata": {
    "id": "VlS59ohFe3Ko"
   },
   "source": [
    "## Pronóstico Extendido para Planificación Agrícola\n",
    "\n",
    "Obtenemos datos de varios días para planificación de actividades de campo:"
   ]
  },
  {
   "cell_type": "code",
   "execution_count": null,
   "metadata": {
    "id": "-aU3alwIe3Ko"
   },
   "outputs": [],
   "source": [
    "# Obtener pronóstico de 5 días\n",
    "url_5dias = f\"http://api.openweathermap.org/data/2.5/forecast?q=Rosario&units=metric&lang=es&appid={api_key}\"\n",
    "\n",
    "response_5dias = requests.get(url_5dias)\n",
    "data_5dias = response_5dias.json()\n",
    "\n",
    "# Extraer datos para análisis\n",
    "fechas = []\n",
    "temperaturas = []\n",
    "humedades = []\n",
    "velocidades_viento = []\n",
    "\n",
    "for pronostico in data_5dias['list'][:20]:  # Primeros 20 registros (5 días)\n",
    "    fechas.append(pronostico['dt_txt'])\n",
    "    temperaturas.append(pronostico['main']['temp'])\n",
    "    humedades.append(pronostico['main']['humidity'])\n",
    "    velocidades_viento.append(pronostico['wind']['speed'])\n",
    "\n",
    "# Crear gráfico de tendencia\n",
    "fig, (ax1, ax2, ax3) = plt.subplots(3, 1, figsize=(15, 12))\n",
    "\n",
    "# Temperatura\n",
    "ax1.plot(fechas, temperaturas, 'r-o', linewidth=2)\n",
    "ax1.set_title('Pronóstico de Temperatura (5 días)')\n",
    "ax1.set_ylabel('Temperatura (°C)')\n",
    "ax1.tick_params(axis='x', rotation=45)\n",
    "ax1.grid(True, alpha=0.3)\n",
    "\n",
    "# Humedad\n",
    "ax2.plot(fechas, humedades, 'b-s', linewidth=2)\n",
    "ax2.set_title('Pronóstico de Humedad Relativa (5 días)')\n",
    "ax2.set_ylabel('Humedad (%)')\n",
    "ax2.tick_params(axis='x', rotation=45)\n",
    "ax2.grid(True, alpha=0.3)\n",
    "\n",
    "# Velocidad del viento\n",
    "ax3.plot(fechas, velocidades_viento, 'g-^', linewidth=2)\n",
    "ax3.set_title('Pronóstico de Velocidad del Viento (5 días)')\n",
    "ax3.set_ylabel('Velocidad (m/s)')\n",
    "ax3.set_xlabel('Fecha y Hora')\n",
    "ax3.tick_params(axis='x', rotation=45)\n",
    "ax3.grid(True, alpha=0.3)\n",
    "\n",
    "plt.tight_layout()\n",
    "plt.show()\n",
    "\n",
    "print(f\"Pronóstico obtenido para {len(fechas)} períodos de 3 horas\")"
   ]
  },
  {
   "cell_type": "markdown",
   "metadata": {
    "id": "UjiJ3U3Be3Ko"
   },
   "source": [
    "## Análisis Predictivo con Gemini\n",
    "\n",
    "Usamos los datos del pronóstico extendido para generar un plan de actividades agrícolas:"
   ]
  },
  {
   "cell_type": "code",
   "execution_count": null,
   "metadata": {
    "id": "Fdz1X67qe3Ko"
   },
   "outputs": [],
   "source": [
    "# Preparar resumen del pronóstico para análisis\n",
    "temp_promedio = sum(temperaturas) / len(temperaturas)\n",
    "humedad_promedio = sum(humedades) / len(humedades)\n",
    "viento_promedio = sum(velocidades_viento) / len(velocidades_viento)\n",
    "temp_maxima = max(temperaturas)\n",
    "temp_minima = min(temperaturas)\n",
    "\n",
    "resumen_pronostico = f\"\"\"PRONÓSTICO EXTENDIDO (5 DÍAS) - PAMPA HÚMEDA\n",
    "\n",
    "RESUMEN ESTADÍSTICO:\n",
    "- Temperatura promedio: {temp_promedio:.1f}°C\n",
    "- Temperatura máxima: {temp_maxima:.1f}°C\n",
    "- Temperatura mínima: {temp_minima:.1f}°C\n",
    "- Humedad relativa promedio: {humedad_promedio:.1f}%\n",
    "- Velocidad de viento promedio: {viento_promedio:.1f} m/s\n",
    "\n",
    "TENDENCIAS OBSERVADAS:\n",
    "- Rango térmico: {temp_maxima - temp_minima:.1f}°C\n",
    "- Condiciones de viento: {'Calmo' if viento_promedio < 3 else 'Moderado' if viento_promedio < 6 else 'Fuerte'}\n",
    "- Nivel de humedad: {'Bajo' if humedad_promedio < 50 else 'Moderado' if humedad_promedio < 70 else 'Alto'}\"\"\"\n",
    "\n",
    "print(resumen_pronostico)"
   ]
  },
  {
   "cell_type": "code",
   "execution_count": null,
   "metadata": {
    "id": "cwoW_J37e3Ko"
   },
   "outputs": [],
   "source": [
    "# Generar plan de actividades con Gemini\n",
    "prompt_planificacion = f\"\"\"Como asesor agropecuario especializado en la región pampeana, analiza este pronóstico extendido y genera un PLAN DE ACTIVIDADES DE CAMPO para los próximos 5 días:\n",
    "\n",
    "{resumen_pronostico}\n",
    "\n",
    "CONSIDERA EN TU ANÁLISIS:\n",
    "- Cultivos típicos de la zona: soja, maíz, trigo\n",
    "- Actividades agrícolas: pulverizaciones, fertilización, siembra, cosecha\n",
    "- Condiciones óptimas para cada actividad\n",
    "- Restricciones por viento, humedad y temperatura\n",
    "- Seguridad de los operarios\n",
    "\n",
    "GENERA:\n",
    "1. CRONOGRAMA DIARIO de actividades recomendadas\n",
    "2. VENTANAS ÓPTIMAS para aplicaciones\n",
    "3. ACTIVIDADES A EVITAR en cada período\n",
    "4. ALERTAS ESPECIALES si las hubiera\n",
    "5. PREPARATIVOS recomendados\n",
    "\n",
    "Formato: Día por día con horarios específicos.\"\"\"\n",
    "\n",
    "plan_actividades = consultar_gemini(prompt_planificacion)\n",
    "print(\"=== PLAN DE ACTIVIDADES AGRÍCOLAS (5 DÍAS) ===\")\n",
    "display(Markdown(plan_actividades))"
   ]
  },
  {
   "cell_type": "markdown",
   "metadata": {
    "id": "7u1oPxbte3Kp"
   },
   "source": [
    "## Comparación Regional con Análisis Multi-zona\n",
    "\n",
    "Comparamos condiciones entre diferentes regiones agrícolas de Argentina:"
   ]
  },
  {
   "cell_type": "code",
   "execution_count": null,
   "metadata": {
    "id": "bRAvKiqHe3Kp"
   },
   "outputs": [],
   "source": [
    "# Definir regiones agrícolas argentinas\n",
    "regiones_agricolas = {\n",
    "    \"Pampa Húmeda\": (-33.7, -60.5),\n",
    "    \"Cuyo\": (-32.9, -68.8),\n",
    "    \"NOA (Salta)\": (-26.8, -65.2),\n",
    "    \"NEA (Corrientes)\": (-27.5, -58.8),\n",
    "    \"Patagonia Norte\": (-41.8, -68.9)\n",
    "}\n",
    "\n",
    "def obtener_datos_clima_region(lat, lon):\n",
    "    \"\"\"Obtiene datos climáticos para una región específica\"\"\"\n",
    "    url = f\"https://api.openweathermap.org/data/2.5/weather?units=metric&lat={lat}&lon={lon}&appid={api_key}\"\n",
    "    try:\n",
    "        response = requests.get(url)\n",
    "        data = response.json()\n",
    "        return {\n",
    "            'temp': data['main']['temp'],\n",
    "            'humedad': data['main']['humidity'],\n",
    "            'viento': data['wind']['speed'],\n",
    "            'descripcion': data['weather'][0]['description']\n",
    "        }\n",
    "    except Exception as e:\n",
    "        print(f\"Error obteniendo datos: {e}\")\n",
    "        return None\n",
    "\n",
    "# Recopilar datos de todas las regiones\n",
    "datos_regionales = {}\n",
    "for region, coords in regiones_agricolas.items():\n",
    "    print(f\"Obteniendo datos para {region}...\")\n",
    "    datos = obtener_datos_clima_region(coords[0], coords[1])\n",
    "    if datos:\n",
    "        datos_regionales[region] = datos\n",
    "\n",
    "print(f\"\\nDatos obtenidos para {len(datos_regionales)} regiones\")"
   ]
  },
  {
   "cell_type": "code",
   "execution_count": null,
   "metadata": {
    "id": "hVmbYOIJe3Kp"
   },
   "outputs": [],
   "source": [
    "# Visualizar comparación regional\n",
    "if datos_regionales:\n",
    "    fig, (ax1, ax2, ax3) = plt.subplots(3, 1, figsize=(12, 15))\n",
    "\n",
    "    regiones = list(datos_regionales.keys())\n",
    "    temps = [datos['temp'] for datos in datos_regionales.values()]\n",
    "    hums = [datos['humedad'] for datos in datos_regionales.values()]\n",
    "    vientos = [datos['viento'] for datos in datos_regionales.values()]\n",
    "\n",
    "    # Gráfico de temperaturas\n",
    "    bars1 = ax1.bar(regiones, temps, color='red', alpha=0.7)\n",
    "    ax1.set_title('Temperatura por Región Agrícola', fontsize=14, fontweight='bold')\n",
    "    ax1.set_ylabel('Temperatura (°C)')\n",
    "    ax1.tick_params(axis='x', rotation=45)\n",
    "\n",
    "    # Agregar valores sobre barras\n",
    "    for bar, temp in zip(bars1, temps):\n",
    "        ax1.text(bar.get_x() + bar.get_width()/2., bar.get_height() + 0.3,\n",
    "                f'{temp:.1f}°C', ha='center', va='bottom')\n",
    "\n",
    "    # Gráfico de humedad\n",
    "    bars2 = ax2.bar(regiones, hums, color='blue', alpha=0.7)\n",
    "    ax2.set_title('Humedad Relativa por Región', fontsize=14, fontweight='bold')\n",
    "    ax2.set_ylabel('Humedad (%)')\n",
    "    ax2.tick_params(axis='x', rotation=45)\n",
    "\n",
    "    for bar, hum in zip(bars2, hums):\n",
    "        ax2.text(bar.get_x() + bar.get_width()/2., bar.get_height() + 1,\n",
    "                f'{hum:.0f}%', ha='center', va='bottom')\n",
    "\n",
    "    # Gráfico de viento\n",
    "    bars3 = ax3.bar(regiones, vientos, color='green', alpha=0.7)\n",
    "    ax3.set_title('Velocidad del Viento por Región', fontsize=14, fontweight='bold')\n",
    "    ax3.set_ylabel('Velocidad del Viento (m/s)')\n",
    "    ax3.set_xlabel('Regiones Agrícolas')\n",
    "    ax3.tick_params(axis='x', rotation=45)\n",
    "\n",
    "    for bar, viento in zip(bars3, vientos):\n",
    "        ax3.text(bar.get_x() + bar.get_width()/2., bar.get_height() + 0.1,\n",
    "                f'{viento:.1f}', ha='center', va='bottom')\n",
    "\n",
    "    plt.tight_layout()\n",
    "    plt.show()\n",
    "\n",
    "    print(\"=== DATOS REGIONALES COMPARATIVOS ===\")\n",
    "    for region, datos in datos_regionales.items():\n",
    "        print(f\"{region}: {datos['temp']:.1f}°C, {datos['humedad']}% HR, {datos['viento']:.1f} m/s - {datos['descripcion']}\")"
   ]
  },
  {
   "cell_type": "markdown",
   "metadata": {
    "id": "ohmrsC-Se3Kp"
   },
   "source": [
    "## Análisis Regional Comparativo con Gemini\n",
    "\n",
    "Usamos Gemini para generar recomendaciones específicas por región:"
   ]
  },
  {
   "cell_type": "code",
   "execution_count": null,
   "metadata": {
    "id": "tgh33WKLe3Kp"
   },
   "outputs": [],
   "source": [
    "# Análisis comparativo con Gemini\n",
    "if datos_regionales:\n",
    "    prompt_regional = f\"\"\"Como especialista en agricultura argentina, analiza las siguientes condiciones climáticas actuales en las principales regiones agrícolas del país:\n",
    "\n",
    "{datos_regionales}\n",
    "\n",
    "Proporciona un ANÁLISIS REGIONAL COMPARATIVO que incluya:\n",
    "\n",
    "1. **CONDICIONES ÓPTIMAS**: ¿Qué región tiene las mejores condiciones hoy?\n",
    "2. **CULTIVOS RECOMENDADOS**: ¿Qué cultivos son más apropiados para cada región según estas condiciones?\n",
    "3. **ACTIVIDADES PRIORITARIAS**: ¿Qué actividades agrícolas se deberían realizar hoy en cada región?\n",
    "4. **ALERTAS REGIONALES**: ¿Qué precauciones específicas debe tomar cada región?\n",
    "5. **OPORTUNIDADES**: ¿Qué ventajas competitivas temporales tiene cada zona?\n",
    "\n",
    "Considera:\n",
    "- Cultivos típicos de cada región\n",
    "- Épocas de siembra/cosecha por zona\n",
    "- Sensibilidad climática de diferentes cultivos\n",
    "- Logística y operaciones de campo\n",
    "\n",
    "Respuesta técnica pero práctica para productores.\"\"\"\n",
    "\n",
    "    analisis_regional = consultar_gemini(prompt_regional)\n",
    "    print(\"=== ANÁLISIS REGIONAL COMPARATIVO CON GEMINI ===\")\n",
    "    display(Markdown(analisis_regional))\n",
    "else:\n",
    "    print(\"No se pudieron obtener datos regionales para el análisis\")"
   ]
  },
  {
   "cell_type": "markdown",
   "metadata": {
    "id": "s0egbPCae3Kp"
   },
   "source": [
    "## Resumen y Próximos Pasos\n",
    "\n",
    "### ¿Qué aprendimos?\n",
    "\n",
    "1. **Integración de APIs**: Cómo combinar datos de múltiples fuentes (clima + IA)\n",
    "2. **Google Gemini API**: Uso práctico para análisis agronómico en español\n",
    "3. **Visualización de datos**: Gráficos informativos para toma de decisiones\n",
    "4. **Análisis regional**: Comparación de condiciones entre zonas productivas\n",
    "5. **Planificación agrícola**: Generación automática de cronogramas de actividades\n",
    "\n",
    "### Aplicaciones Prácticas:\n",
    "- Sistema de alertas climáticas para productores\n",
    "- Planificación automática de pulverizaciones\n",
    "- Optimización de ventanas de trabajo de campo\n",
    "- Análisis comparativo regional para decisiones comerciales\n",
    "\n",
    "### Próximo Cuaderno:\n",
    "En **04-Automatización-Web-Scraping** aprenderemos a extraer datos de sitios web especializados y combinarlos con análisis de IA para crear sistemas más complejos."
   ]
  }
 ],
 "metadata": {
  "colab": {
   "provenance": []
  },
  "kernelspec": {
   "display_name": "Python 3",
   "language": "python",
   "name": "python3"
  },
  "language_info": {
   "codemirror_mode": {
    "name": "ipython",
    "version": 3
   },
   "file_extension": ".py",
   "mimetype": "text/x-python",
   "name": "python",
   "nbconvert_exporter": "python",
   "pygments_lexer": "ipython3",
   "version": "3.8.5"
  }
 },
 "nbformat": 4,
 "nbformat_minor": 0
}
