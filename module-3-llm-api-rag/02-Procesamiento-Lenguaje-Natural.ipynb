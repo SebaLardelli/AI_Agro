{
 "cells": [
  {
   "cell_type": "code",
   "execution_count": null,
   "metadata": {
    "id": "5ZVm6CIouwgF"
   },
   "outputs": [],
   "source": [
    "!pip install -U -q google-genai openai python-dotenv"
   ]
  },
  {
   "cell_type": "markdown",
   "metadata": {
    "id": "KvvIHZvXyE2n"
   },
   "source": [
    "# Integración con Google Gemini API para Agricultura\n",
    "Este cuaderno enseña cómo integrar **Google Gemini API** en aplicaciones agronómicas reales, utilizando casos prácticos del sector agropecuario argentino."
   ]
  },
  {
   "cell_type": "code",
   "execution_count": null,
   "metadata": {
    "id": "0xS2NWpqvWHX"
   },
   "outputs": [],
   "source": [
    "from google.colab import userdata\n",
    "import os\n",
    "from dotenv import load_dotenv  \n",
    "\n",
    "load_dotenv()  # Cargar variables de entorno desde un archivo .env si existe\n",
    "\n",
    "GOOGLE_API_KEY = os.getenv('GOOGLE_API_KEY')"
   ]
  },
  {
   "cell_type": "code",
   "execution_count": null,
   "metadata": {
    "id": "sL2CGPN7vvHj"
   },
   "outputs": [],
   "source": [
    "from google import genai\n",
    "from google.genai import types\n",
    "\n",
    "cliente = genai.Client(api_key=GOOGLE_API_KEY)"
   ]
  },
  {
   "cell_type": "code",
   "execution_count": null,
   "metadata": {
    "id": "AdHdsFQAbH67"
   },
   "outputs": [],
   "source": [
    "from IPython.display import Markdown, display"
   ]
  },
  {
   "cell_type": "markdown",
   "metadata": {
    "id": "Cy_bZVjVyTbE"
   },
   "source": [
    "# Reporte Agronómico Real"
   ]
  },
  {
   "cell_type": "code",
   "execution_count": null,
   "metadata": {
    "id": "_NwHWVYpv_Ji"
   },
   "outputs": [],
   "source": [
    "# Reporte de campo real que utilizaremos para demostrar la integración con Gemini API\n",
    "\n",
    "reporte_campo = \"\"\"REPORTE QUINCENAL DE CAMPO - ESTABLECIMIENTO LA PAMPA\n",
    "Fecha: 15/01/2024\n",
    "Responsable: Ing. Agr. Carlos Mendoza\n",
    "Ubicación: Pergamino, Buenos Aires\n",
    "\n",
    "LOTE 15-A (Soja DM4670): Excelente desarrollo vegetativo en V8. Se observa\n",
    "presencia de chinche verde en borduras (2.1 chinches/metro lineal), por encima\n",
    "del umbral económico. Requiere monitoreo intensivo y probable aplicación de\n",
    "insecticida en los próximos 3-5 días si la población se mantiene.\n",
    "\n",
    "LOTE 22-C (Maíz DK692): Estado R2 (ampollado). Buen llenado de grano pese a\n",
    "estrés hídrico leve en diciembre. Aplicación de fungicida preventiva realizada\n",
    "el 10/01. No se observan síntomas de roya del maíz hasta el momento.\n",
    "\n",
    "CONDICIONES METEOROLÓGICAS: Temperaturas altas (32-35°C) con alta humedad\n",
    "relativa (78%). Pronóstico indica lluvias para el fin de semana (15-25mm).\n",
    "Condiciones favorables para desarrollo de enfermedades foliares.\n",
    "\n",
    "RECOMENDACIONES: Acelerar monitoreo fitosanitario. Evaluar aplicación preventiva\n",
    "en maíz si persiste alta humedad. Considerar cosecha temprana en lotes de soja\n",
    "que alcancen R7 antes de febrero.\"\"\"\n",
    "\n",
    "print(\"\\nReporte agronómico definido para demostrar Gemini API.\")"
   ]
  },
  {
   "cell_type": "code",
   "execution_count": null,
   "metadata": {
    "id": "msa42Srs1Mci"
   },
   "outputs": [],
   "source": [
    "MODEL_ID = \"gemini-2.5-pro\" # @param [\"gemini-2.5-pro\", \"gemini-2.5-flash\", \"gemini-2.5-flash-lite\"] {\"allow-input\":true, isTemplate: true}"
   ]
  },
  {
   "cell_type": "markdown",
   "metadata": {
    "id": "nR1SRBxf1Sma"
   },
   "source": [
    "## 1. Resumen Ejecutivo de Reportes"
   ]
  },
  {
   "cell_type": "code",
   "execution_count": null,
   "metadata": {
    "id": "zjLIg2OZ1Pby"
   },
   "outputs": [],
   "source": [
    "pregunta = f\"\"\"Como agrónomo senior, resumí este reporte de campo en 2 oraciones ejecutivas\n",
    "para el gerente de producción:\n",
    "\n",
    "Reporte: {reporte_campo}\n",
    "\"\"\"\n",
    "\n",
    "respuesta = cliente.models.generate_content(\n",
    "    model=MODEL_ID,\n",
    "    contents=[pregunta] # Pasa la pregunta como contenido\n",
    ")\n",
    "print(respuesta.text)"
   ]
  },
  {
   "cell_type": "markdown",
   "metadata": {
    "id": "A0XQRDI01INu"
   },
   "source": [
    "## 2. Evaluación de Riesgo Agronómico"
   ]
  },
  {
   "cell_type": "code",
   "execution_count": null,
   "metadata": {
    "id": "w59q68sb0og-"
   },
   "outputs": [],
   "source": [
    "pregunta = f\"\"\"Evaluá el nivel de riesgo de este reporte agronómico:\n",
    "Opciones: BAJO, MEDIO, ALTO\n",
    "\n",
    "Incluí las razones técnicas de tu evaluación.\n",
    "\n",
    "Reporte: {reporte_campo}\n",
    "\"\"\"\n",
    "\n",
    "respuesta = cliente.models.generate_content(\n",
    "    model=MODEL_ID,\n",
    "    contents=[pregunta] # Pasa la pregunta como contenido\n",
    ")\n",
    "\n",
    "display(Markdown(respuesta.text))"
   ]
  },
  {
   "cell_type": "markdown",
   "metadata": {
    "id": "Eyjbk9Ij1mlD"
   },
   "source": [
    "## 3. Extracción de Datos Técnicos"
   ]
  },
  {
   "cell_type": "code",
   "execution_count": null,
   "metadata": {
    "id": "0ZO0owXo1nqM"
   },
   "outputs": [],
   "source": [
    "prompt = f\"\"\"Extraé los siguientes datos técnicos del reporte:\n",
    "- Cultivos y variedades\n",
    "- Estados fenológicos\n",
    "- Plagas/enfermedades detectadas\n",
    "- Umbrales económicos\n",
    "- Fechas importantes\n",
    "- Ubicaciones geográficas\n",
    "\n",
    "Reporte: {reporte_campo}\n",
    "\"\"\"\n",
    "\n",
    "respuesta = cliente.models.generate_content(\n",
    "    model=MODEL_ID,\n",
    "    contents=[prompt] # Pasa la pregunta como contenido\n",
    ")\n",
    "display(Markdown(respuesta.text))"
   ]
  },
  {
   "cell_type": "markdown",
   "metadata": {
    "id": "R7nLX8XA2ARy"
   },
   "source": [
    "## 4. Consultas Específicas sobre el Reporte"
   ]
  },
  {
   "cell_type": "code",
   "execution_count": null,
   "metadata": {
    "id": "_OJB5YkV2B0d"
   },
   "outputs": [],
   "source": [
    "pregunta = \"¿Qué lotes requieren acción inmediata y por qué?\"\n",
    "contexto = reporte_campo\n",
    "\n",
    "prompt = f\"\"\"Respondé la siguiente consulta técnica basada en el reporte:\n",
    "\n",
    "Reporte: {contexto}\n",
    "Consulta: {pregunta}\n",
    "\"\"\"\n",
    "\n",
    "respuesta = cliente.models.generate_content(\n",
    "    model=MODEL_ID,\n",
    "    contents=[contexto, pregunta] # Pasa la pregunta como contenido\n",
    ")\n",
    "display(Markdown(respuesta.text))"
   ]
  },
  {
   "cell_type": "markdown",
   "metadata": {
    "id": "teUpLbTm2iah"
   },
   "source": [
    "## 5. Recomendaciones Priorizadas"
   ]
  },
  {
   "cell_type": "code",
   "execution_count": null,
   "metadata": {
    "id": "eU1ntrhI2iIC"
   },
   "outputs": [],
   "source": [
    "prompt = f\"\"\"Generá 3 recomendaciones técnicas priorizadas basadas en este reporte:\n",
    "\n",
    "Reporte: {reporte_campo}\n",
    "\n",
    "Formato:\n",
    "1. [URGENTE/MEDIA/BAJA] - Acción específica\n",
    "\"\"\"\n",
    "\n",
    "respuesta = cliente.models.generate_content(\n",
    "    model=MODEL_ID,\n",
    "    contents=[prompt] # Pasa la pregunta como contenido\n",
    ")\n",
    "display(Markdown(respuesta.text))"
   ]
  },
  {
   "cell_type": "markdown",
   "metadata": {
    "id": "tnd7hnBo254-"
   },
   "source": [
    "## 6. Traducción para Exportadores"
   ]
  },
  {
   "cell_type": "code",
   "execution_count": null,
   "metadata": {
    "id": "txSjXi-w2zOL"
   },
   "outputs": [],
   "source": [
    "prompt = f\"\"\"Traducí al inglés este resumen técnico para el reporte del comprador internacional:\n",
    "\n",
    "Extrae solo la información de calidad y estado de cultivos:\n",
    "\n",
    "Reporte: {reporte_campo}\n",
    "\"\"\"\n",
    "\n",
    "respuesta = cliente.models.generate_content(\n",
    "    model=MODEL_ID,\n",
    "    contents=[prompt] # Pasa la pregunta como contenido\n",
    ")\n",
    "display(Markdown(respuesta.text))"
   ]
  },
  {
   "cell_type": "markdown",
   "metadata": {
    "id": "n2ODoTLy3Cp9"
   },
   "source": [
    "## 7. Comunicación con Productores"
   ]
  },
  {
   "cell_type": "code",
   "execution_count": null,
   "metadata": {
    "id": "WmAhcje23CTG"
   },
   "outputs": [],
   "source": [
    "prompt = f\"\"\"Basado en este reporte técnico, redactá un WhatsApp breve (máximo 3 líneas)\n",
    "para el productor explicando la situación y próximos pasos:\n",
    "\n",
    "Reporte: {reporte_campo}\n",
    "\n",
    "Tono: Profesional pero accesible, sin jerga excesiva.\n",
    "\"\"\"\n",
    "\n",
    "respuesta = cliente.models.generate_content(\n",
    "    model=MODEL_ID,\n",
    "    contents=[prompt] # Pasa la pregunta como contenido\n",
    ")\n",
    "display(Markdown(respuesta.text))"
   ]
  },
  {
   "cell_type": "markdown",
   "metadata": {
    "id": "dtVjz8gr3VGR"
   },
   "source": [
    "## 8. Clasificación de Alertas Fitosanitarias"
   ]
  },
  {
   "cell_type": "code",
   "execution_count": null,
   "metadata": {
    "id": "UtHlUvEy3URy"
   },
   "outputs": [],
   "source": [
    "categorias = [\"sin_accion\", \"monitoreo_intensivo\", \"aplicacion_inmediata\", \"emergencia_fitosanitaria\"]\n",
    "\n",
    "prompt = f\"\"\"Clasificá este reporte según el nivel de respuesta requerido:\n",
    "Categorías: {', '.join(categorias)}\n",
    "\n",
    "Justificá tu elección con criterios técnicos.\n",
    "\n",
    "Reporte: {reporte_campo}\n",
    "\"\"\"\n",
    "\n",
    "respuesta = cliente.models.generate_content(\n",
    "    model=MODEL_ID,\n",
    "    contents=[prompt] # Pasa la pregunta como contenido\n",
    ")\n",
    "display(Markdown(respuesta.text))"
   ]
  },
  {
   "cell_type": "markdown",
   "metadata": {
    "id": "nOPQ22a63k0r"
   },
   "source": [
    "## EJERCICIO PRÁCTICO\n",
    "\n",
    "Creá tu propio reporte de campo con:\n",
    "- 2 lotes diferentes (cultivo, estado, observaciones)\n",
    "- Al menos 1 problema fitosanitario\n",
    "- Condiciones meteorológicas\n",
    "- Recomendaciones\n",
    "\n",
    "Luego usá Gemini API para:\n",
    "1. Generar un resumen ejecutivo\n",
    "2. Extraer datos técnicos estructurados  \n",
    "3. Clasificar el nivel de riesgo\n",
    "4. Crear recomendaciones priorizadas\n",
    "\n",
    "**Objetivo**: Practicar la integración de Gemini API con datos agronómicos reales."
   ]
  }
 ],
 "metadata": {
  "accelerator": "GPU",
  "colab": {
   "gpuType": "T4",
   "provenance": []
  },
  "kernelspec": {
   "display_name": "Python 3",
   "name": "python3"
  },
  "language_info": {
   "name": "python"
  }
 },
 "nbformat": 4,
 "nbformat_minor": 0
}
