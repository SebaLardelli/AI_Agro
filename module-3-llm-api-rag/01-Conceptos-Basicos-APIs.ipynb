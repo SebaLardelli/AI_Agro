{
 "cells": [
  {
   "cell_type": "markdown",
   "metadata": {
    "id": "bAHqYrFiYsKg"
   },
   "source": [
    "# Primeros Pasos con APIs: Ejemplo Agronómico Básico"
   ]
  },
  {
   "cell_type": "markdown",
   "metadata": {
    "id": "waImbBlTYsKi"
   },
   "source": [
    "## Configuración de la API de OpenAI\n",
    "\n",
    "**¿Qué es una API?** Una Interfaz de Programación de Aplicaciones que nos permite acceder a servicios de inteligencia artificial desde nuestros programas Python. En agricultura, esto nos permite automatizar análisis de datos de campo, reportes, y toma de decisiones."
   ]
  },
  {
   "cell_type": "code",
   "execution_count": null,
   "metadata": {},
   "outputs": [],
   "source": [
    "!pip install --upgrade openai dotenv --quiet"
   ]
  },
  {
   "cell_type": "code",
   "execution_count": null,
   "metadata": {
    "id": "-DbaZw5jYsKj"
   },
   "outputs": [],
   "source": [
    "import os\n",
    "from openai import OpenAI\n",
    "from dotenv import load_dotenv\n",
    "\n",
    "load_dotenv()  # Cargar variables de entorno desde un archivo .env si existe\n",
    "\n",
    "# Intentar detectar Colab\n",
    "IN_COLAB = False\n",
    "try:\n",
    "    import google.colab\n",
    "    from google.colab import userdata\n",
    "    IN_COLAB = True\n",
    "except Exception:\n",
    "    IN_COLAB = False\n",
    "\n",
    "OPENAI_API_KEY = None\n",
    "if IN_COLAB:\n",
    "    # En Colab el usuario puede guardar secretos y recuperarlos con userdata.get\n",
    "    try:\n",
    "        OPENAI_API_KEY = userdata.get('OPENAI_API_KEY')\n",
    "    except Exception:\n",
    "        OPENAI_API_KEY = os.getenv('OPENAI_API_KEY')\n",
    "else:\n",
    "    OPENAI_API_KEY = os.getenv('OPENAI_API_KEY')\n",
    "\n",
    "if not OPENAI_API_KEY:\n",
    "    raise ValueError('OPENAI_API_KEY no encontrada. Coloca tu clave en .env o en Colab secrets con la key OPENAI_API_KEY')\n",
    "\n",
    "print(f\"✅ OPENAI key cargada. Entorno: {'Colab' if IN_COLAB else 'Local'}\")\n",
    "\n",
    "# Tomar de acá: https://platform.openai.com/account/api-keys"
   ]
  },
  {
   "cell_type": "markdown",
   "metadata": {
    "id": "418XgxutYsKk"
   },
   "source": [
    "## Función básica para consultas agrícolas\n",
    "\n",
    "Esta función nos permite enviar cualquier consulta agronómica a ChatGPT y recibir una respuesta estructurada. Es la base para automatizar análisis de datos de campo."
   ]
  },
  {
   "cell_type": "code",
   "execution_count": null,
   "metadata": {
    "id": "K603LN95YsKl"
   },
   "outputs": [],
   "source": [
    "def get_completion(prompt, model=\"gpt-4o-mini\", temperature=0):\n",
    "    # Usamos la variable OPENAI_API_KEY cargada desde secrets o .env\n",
    "    client = OpenAI(api_key=OPENAI_API_KEY)\n",
    "\n",
    "    messages = [{\"role\": \"user\", \"content\": prompt}]\n",
    "\n",
    "    response = client.chat.completions.create(\n",
    "        model=model,\n",
    "        messages=messages,\n",
    "        temperature=temperature, # grado de aleatoriedad (0 = más predecible)\n",
    "    )\n",
    "    return response.choices[0].message.content"
   ]
  },
  {
   "cell_type": "markdown",
   "metadata": {
    "id": "sq3XOPVZYsKl"
   },
   "source": [
    "## Primera consulta agronómica: Análisis de resultados de laboratorio"
   ]
  },
  {
   "cell_type": "code",
   "execution_count": null,
   "metadata": {
    "id": "O_IT_P1GYsKl"
   },
   "outputs": [],
   "source": [
    "analisis_laboratorio = \"\"\"\n",
    "ANÁLISIS DE SUELO - LABORATORIO AGROPAMPA\n",
    "Cliente: Establecimiento San José - Pergamino, Buenos Aires\n",
    "Lote: 12-A (Preparación para soja 2024/25)\n",
    "Fecha: 08/01/2024\n",
    "Profundidad: 0-20 cm\n",
    "\n",
    "RESULTADOS:\n",
    "pH: 5.2 (ácido)\n",
    "Materia orgánica: 2.8% (medio)\n",
    "Nitrógeno total: 0.12% (bajo)\n",
    "Fósforo disponible: 12 ppm (bajo)\n",
    "Potasio intercambiable: 180 ppm (medio)\n",
    "Conductividad eléctrica: 0.4 dS/m (normal)\n",
    "Textura: Franco-limoso\n",
    "CIC: 22.5 cmol/kg\n",
    "\n",
    "OBSERVACIONES: Suelo típico de la pampa húmeda con acidez moderada.\n",
    "Recomiendan encalado previo a siembra. Evaluar fertilización fosfatada\n",
    "según análisis económico de dosis respuesta.\n",
    "\"\"\""
   ]
  },
  {
   "cell_type": "code",
   "execution_count": null,
   "metadata": {
    "id": "8MpPLqV3YsKl"
   },
   "outputs": [],
   "source": [
    "prompt = f\"\"\"\n",
    "Analiza los siguientes resultados de análisis de suelo y extrae la información clave:\n",
    "- Estado general del suelo (bueno/regular/deficiente)\n",
    "- ¿Requiere encalado? (verdadero o falso)\n",
    "- Nutriente más limitante\n",
    "- Establecimiento/Cliente\n",
    "\n",
    "Formatea tu respuesta como un objeto JSON con las claves:\n",
    "\"estado_suelo\", \"requiere_encalado\", \"nutriente_limitante\" y \"establecimiento\".\n",
    "\n",
    "Si la información no está presente, usa \"no_especificado\" como valor.\n",
    "Formatea el valor de requiere_encalado como un booleano.\n",
    "\n",
    "Análisis de laboratorio: '''{analisis_laboratorio}'''\n",
    "\"\"\"\n",
    "response = get_completion(prompt)\n",
    "print(response)"
   ]
  },
  {
   "cell_type": "markdown",
   "metadata": {
    "id": "QAMBX2UeYsKm"
   },
   "source": [
    "## Ejemplo práctico: Generación de recomendaciones\n",
    "\n",
    "Una vez que dominamos lo básico, podemos usar la API para generar recomendaciones técnicas automatizadas."
   ]
  },
  {
   "cell_type": "code",
   "execution_count": null,
   "metadata": {
    "id": "AHUUTuFqYsKm"
   },
   "outputs": [],
   "source": [
    "# Generamos recomendaciones técnicas automáticamente\n",
    "prompt_recomendaciones = f\"\"\"\n",
    "Basado en este análisis de suelo, genera 3 recomendaciones técnicas específicas\n",
    "para la siembra de soja en la región pampeana:\n",
    "\n",
    "{analisis_laboratorio}\n",
    "\n",
    "Incluye:\n",
    "1. Corrección de pH (dosis de cal si corresponde)\n",
    "2. Plan de fertilización (productos y dosis por hectárea)\n",
    "3. Manejo específico del lote\n",
    "\n",
    "Responde de forma técnica pero práctica.\n",
    "\"\"\"\n",
    "\n",
    "recomendaciones = get_completion(prompt_recomendaciones)\n",
    "print(\"=== RECOMENDACIONES TÉCNICAS ===\")\n",
    "print(recomendaciones)"
   ]
  },
  {
   "cell_type": "code",
   "execution_count": null,
   "metadata": {
    "id": "f677f80d"
   },
   "outputs": [],
   "source": [
    "from IPython.display import Markdown, display\n",
    "\n",
    "# Imprimir la respuesta en formato Markdown\n",
    "display(Markdown(recomendaciones))"
   ]
  },
  {
   "cell_type": "markdown",
   "metadata": {
    "id": "_quWOqSRYsKm"
   },
   "source": [
    "## ¿Qué aprendimos?\n",
    "\n",
    "1. **¿Qué es una API?** Una forma de comunicarnos con servicios de inteligencia artificial\n",
    "2. **Configuración básica**: Cómo cargar credenciales de OpenAI de forma segura\n",
    "3. **Función de consulta**: `get_completion()` nos permite hacer cualquier pregunta\n",
    "4. **Casos de uso reales**: Análisis de laboratorio, extracción de datos, recomendaciones técnicas\n",
    "\n",
    "### Próximo paso:\n",
    "En el siguiente cuaderno veremos cómo usar **Google Gemini API** para diversificar nuestras herramientas de IA agrícola."
   ]
  }
 ],
 "metadata": {
  "colab": {
   "provenance": []
  },
  "kernelspec": {
   "display_name": "Python 3",
   "language": "python",
   "name": "python3"
  },
  "language_info": {
   "codemirror_mode": {
    "name": "ipython",
    "version": 3
   },
   "file_extension": ".py",
   "mimetype": "text/x-python",
   "name": "python",
   "nbconvert_exporter": "python",
   "pygments_lexer": "ipython3",
   "version": "3.8.5"
  }
 },
 "nbformat": 4,
 "nbformat_minor": 0
}
