{
 "cells": [
  {
   "cell_type": "markdown",
   "id": "ad2f95dc",
   "metadata": {
    "id": "ad2f95dc"
   },
   "source": [
    "# Índice de la clase: Introducción a LLMs\n",
    "\n",
    "Este índice organiza los cuadernos pedagógicos de la carpeta en una secuencia progresiva.\n",
    "\n",
    "## Secuencia:\n",
    "\n",
    "1. [01 -Modulo 01 - Actualizar informacion y busqueda web - Starter.ipynb](./01%20-%20Clase%2001%20-%20Actualizar%20informacion%20y%20busqueda%20web%20-%20Starter.ipynb)\n",
    "\n",
    "   - **Objetivo:** entender limitaciones de los LLMs y cómo complementarlos con búsquedas externas (SERP API). Ejercicio guiado para implementar `serp_results`.\n",
    "   - **Nivel:** Beginner\n",
    "   - **Duración:** 30–45 min\n",
    "\n",
    "2. [02 - Modulo 01 - Actualizar informacion y busqueda web - Solution.ipynb](./02%20-%20Clase%2001%20-%20Actualizar%20informacion%20y%20busqueda%20web%20-%20Solution.ipynb)\n",
    "\n",
    "   - **Objetivo:** solución comentada del ejercicio starter; explicación de prompts y formato de salida.\n",
    "   - **Nivel:** Beginner\n",
    "   - **Duración:** 20–30 min\n",
    "\n",
    "3. [03 - Modulo 02 - ChatGPT ejemplo minimo y conceptos basicos.ipynb](./03%20-%20Clase%2002%20-%20ChatGPT%20ejemplo%20minimo%20y%20conceptos%20basicos.ipynb)\n",
    "\n",
    "   - **Objetivo:** introducción práctica a llamadas API (OpenAI), estructura de mensajes y parámetros (temperatura, tokens).\n",
    "   - **Nivel:** Beginner\n",
    "   - **Duración:** 30–45 min\n",
    "\n",
    "4. [04 - Modulo 03 - OpenAI API scraping y extraccion.ipynb](./04%20-%20Clase%2003%20-%20OpenAI%20API%20scraping%20y%20extraccion.ipynb)\n",
    "\n",
    "   - **Objetivo:** integración con requests y BeautifulSoup; extracción de texto de páginas web y uso de LLM para resumir/extraer información.\n",
    "   - **Nivel:** Beginner → Intermediate\n",
    "   - **Duración:** 45–60 min\n",
    "\n",
    "5. [05 - Modulo 04 - Claude API ejemplos y vision.ipynb](./05%20-%20Clase%2004%20-%20Claude%20API%20ejemplos%20y%20vision.ipynb)\n",
    "\n",
    "   - **Objetivo:** ejemplos con la API de Claude (anthropic), uso de mensajes, loops conversacionales y manejo de inputs de imagen (base64).\n",
    "   - **Nivel:** Intermediate\n",
    "   - **Duración:** 45–60 min\n",
    "\n",
    "6. [06 - Modulo 05 - Gemini API ejemplos y tareas.ipynb](./06%20-%20Clase%2005%20-%20Gemini%20API%20ejemplos%20y%20tareas.ipynb)\n",
    "\n",
    "   - **Objetivo:** uso de `google-genai` (Gemini), tareas como NER, QA, traducción y generación de respuestas de atención al cliente.\n",
    "   - **Nivel:** Intermediate → Advanced\n",
    "   - **Duración:** 45–60 min\n",
    "\n",
    "7. [07 - Modulo 06 - APIs datos climaticos y visualizacion.ipynb](./07%20-%20Clase%2006%20-%20APIs%20datos%20climaticos%20y%20visualizacion.ipynb)\n",
    "\n",
    "   - **Objetivo:** uso de APIs REST (OpenWeather), procesamiento de JSON, visualización con matplotlib y uso de LLM para recomendaciones agrícolas.\n",
    "   - **Nivel:** Intermediate\n",
    "   - **Duración:** 60–75 min\n",
    "\n",
    "8. [08 - Modulo 07 - A_B testing OpenAI experimentos y evaluacion.ipynb](./08%20-%20Clase%2007%20-%20A_B%20testing%20OpenAI%20experimentos%20y%20evaluacion.ipynb)\n",
    "\n",
    "   - **Objetivo:** diseño y ejecución de A/B tests para prompting con OpenAI; evaluación humana con `ipywidgets`.\n",
    "   - **Nivel:** Advanced\n",
    "   - **Duración:** 60–90 min\n",
    "\n",
    "9. [09 - Modulo 08 - A_B testing Gemini experimentos.ipynb](./09%20-%20Clase%2008%20-%20A_B%20testing%20Gemini%20experimentos.ipynb)\n",
    "\n",
    "   - **Objetivo:** versión del experimento A/B usando Gemini para comparar resultados entre proveedores.\n",
    "   - **Nivel:** Advanced\n",
    "   - **Duración:** 60–90 min"
   ]
  }
 ],
 "metadata": {
  "colab": {
   "provenance": []
  },
  "kernelspec": {
   "display_name": "Python 3",
   "language": "python",
   "name": "python3"
  },
  "language_info": {
   "name": "python",
   "version": ""
  }
 },
 "nbformat": 4,
 "nbformat_minor": 5
}
