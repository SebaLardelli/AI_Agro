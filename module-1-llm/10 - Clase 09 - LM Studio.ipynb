{
 "cells": [
  {
   "cell_type": "markdown",
   "metadata": {},
   "source": [
    "# 10 - LM Studio: Implementación de IA Local en Sistemas Agropecuarios\n",
    "\n",
    "En esta clase exploraremos **LM Studio**, una plataforma que permite la implementación de modelos de lenguaje grandes (LLM) en infraestructura local, complementando las soluciones cloud que hemos estudiado anteriormente.\n",
    "\n",
    "## Ventajas estratégicas para el sector agropecuario\n",
    "\n",
    "El sector agropecuario argentino, caracterizado por su alto nivel de tecnificación y digitalización, puede beneficiarse de implementaciones locales de IA por las siguientes razones:\n",
    "\n",
    "- **Soberanía de datos**: Control total sobre información sensible (rendimientos, costos, estrategias comerciales)\n",
    "- **Reducción de latencia**: Procesamiento inmediato sin dependencia de conectividad externa\n",
    "- **Escalabilidad de costos**: Modelo económico predictible independiente del volumen de consultas\n",
    "- **Integración con sistemas existentes**: Implementación en infraestructura de TI agropecuaria local\n"
   ]
  },
  {
   "cell_type": "markdown",
   "metadata": {},
   "source": [
    "## Objetivos de aprendizaje\n",
    "\n",
    "1. **Implementación básica**: Configuración y primera interacción con LM Studio\n",
    "2. **Customización de comportamiento**: Configuración de system prompts para contexto agronómico\n",
    "3. **Extracción de datos estructurados**: Procesamiento de información agropecuaria en formatos estandarizados\n",
    "4. **Procesamiento de archivos**: Análisis automatizado de reportes técnicos y datos de campo\n",
    "5. **Desarrollo de interfaces**: Creación de herramientas de procesamiento de datos agropecuarios\n"
   ]
  },
  {
   "cell_type": "markdown",
   "metadata": {},
   "source": [
    "## Configuración del entorno de desarrollo\n",
    "\n",
    "### Instalación de dependencias\n",
    "\n",
    "Comenzamos instalando las librerías necesarias para la implementación. LM Studio requiere Python 3.8+ y las siguientes dependencias:\n",
    "\n",
    "```bash\n",
    "pip install requests pandas gradio\n",
    "```\n"
   ]
  },
  {
   "cell_type": "code",
   "metadata": {},
   "source": [
    "!pip install requests pandas gradio\n",
    "# Importación de librerías core\n",
    "\n",
    "import json  # Procesamiento de datos estructurados\n",
    "import os    # Operaciones del sistema de archivos\n",
    "import pandas as pd  # Análisis y manipulación de datos tabulares\n",
    "import requests  # Cliente para interacción con LM Studio\n",
    "\n",
    "# Configuración del modelo base\n",
    "LM_STUDIO_URL = \"http://127.0.0.1:1234/\"\n",
    "\n",
    "print(\"Configuración completada. Entorno listo para implementación de IA local.\")"
   ],
   "execution_count": null,
   "outputs": []
  },
  {
   "cell_type": "markdown",
   "metadata": {},
   "source": [
    "## Implementación básica: Primera consulta agronómica\n",
    "\n",
    "### Ejemplo: Consulta sobre densidad de siembra\n",
    "\n",
    "Implementamos una consulta técnica sobre densidad de siembra de soja, un parámetro crítico en la producción agropecuaria argentina:\n"
   ]
  },
  {
   "cell_type": "code",
   "metadata": {},
   "source": [
    "# Definición de la consulta técnica\n",
    "consulta_tecnica = \"\"\" ¿Cuáles son las densidades de siembra recomendadas para soja en la región pampeana argentina?\n",
    "       Incluir variaciones por zona geográfica y condiciones de suelo.\n",
    "       \"\"\"\n",
    "\n",
    "# Estructura del mensaje para el modelo\n",
    "mensaje_consulta = {\n",
    "    \"prompt\": consulta_tecnica\n",
    "}\n",
    "\n",
    "print(\"Ejecutando consulta al modelo local...\")\n",
    "print(f\"Consulta: {consulta_tecnica}\")\n",
    "\n",
    "# Llamada al modelo LM Studio\n",
    "response = requests.post(LM_STUDIO_URL + \"api/chat\", json=mensaje_consulta)\n",
    "\n",
    "# Extracción y presentación de la respuesta\n",
    "respuesta_modelo = response.json().get('response', 'No se recibió respuesta del modelo')\n",
    "print(\"\\n\" + \"=\"*80)\n",
    "print(\"RESPUESTA DEL MODELO:\")\n",
    "print(\"=\"*80)\n",
    "print(respuesta_modelo)"
   ],
   "execution_count": null,
   "outputs": []
  },
  {
   "cell_type": "markdown",
   "metadata": {},
   "source": [
    "## System Prompt Especializado para Consultoría Agronómica\n",
    "\n",
    "# Definimos el contexto profesional para el asistente de IA\n",
    "system_prompt_agronomico = \"\"\"\n",
    "Eres un consultor agronómico con 20 años de experiencia especializado en la región pampeana argentina.\n",
    "Tu expertise abarca:\n",
    "- Cultivos extensivos (soja, maíz, trigo, girasol)\n",
    "- Manejo integrado de plagas y enfermedades\n",
    "- Nutrición vegetal y fertilización variable\n",
    "- Tecnologías de precisión y agricultura digital\n",
    "- Condiciones edafoclimáticas regionales\n",
    "- Mercados agropecuarios y rentabilidad\n",
    "\n",
    "Características de tus respuestas:\n",
    "- Utiliza terminología técnica apropiada\n",
    "- Incluye consideraciones económicas cuando sea relevante\n",
    "- Referencias específicas a condiciones argentinas (suelos, clima, cultivares)\n",
    "- Menciona tecnologías disponibles localmente\n",
    "- Proporciona rangos de valores cuantitativos cuando sea apropiado\n",
    "\n",
    "Si no tienes información específica sobre un tema, indica claramente esta limitación.\n",
    "Responde siempre en español técnico profesional.\n",
    "\"\"\"\n",
    "\n",
    "# Consulta técnica sobre densidades de siembra\n",
    "consulta_densidades = \"\"\"\n",
    "¿Cuáles son las densidades de siembra recomendadas para soja en la región pampeana argentina?\n",
    "Incluir variaciones por zona geográfica, grupo de madurez y condiciones de suelo.\n",
    "Considerar también el impacto económico de diferentes densidades.\n",
    "\"\"\"\n",
    "\n",
    "# Estructura del mensaje con system prompt\n",
    "mensajes_consulta = [\n",
    "    {\"role\": \"system\", \"content\": system_prompt_agronomico},\n",
    "    {\"role\": \"user\", \"content\": consulta_densidades}\n",
    "]\n",
    "\n",
    "print(\"Ejecutando consulta con system prompt especializado...\")\n",
    "print(f\"Consulta: {consulta_densidades}\")\n",
    "\n",
    "# Llamada al modelo LM Studio\n",
    "response = requests.post(LM_STUDIO_URL + \"api/chat\", json={\"messages\": mensajes_consulta})\n",
    "\n",
    "# Extracción y presentación de la respuesta\n",
    "respuesta_especializada = response.json().get('response', 'No se recibió respuesta del modelo')\n",
    "print(\"\\n\" + \"=\"*80)\n",
    "print(\"RESPUESTA DEL CONSULTOR AGRONÓMICO:\")\n",
    "print(\"=\"*80)\n",
    "print(respuesta_especializada)"
   ],
   "execution_count": null,
   "outputs": []
  }
 ],
 "metadata": {
  "kernelspec": {
   "display_name": "Python 3",
   "language": "python",
   "name": "python3"
  },
  "language_info": {
   "codemirror_mode": {
    "name": "ipython",
    "version": 3
   },
   "file_extension": ".py",
   "mimetype": "text/x-python",
   "name": "python",
   "nbconvert_exporter": "python",
   "pygments_lexer": "ipython3",
   "version": "3.8.5"
  }
 },
 "nbformat": 4,
 "nbformat_minor": 2
}
