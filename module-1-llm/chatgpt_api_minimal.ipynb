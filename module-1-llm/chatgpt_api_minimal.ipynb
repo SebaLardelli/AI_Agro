{
 "cells": [
  {
   "cell_type": "markdown",
   "id": "1ed677d1",
   "metadata": {
    "id": "1ed677d1"
   },
   "source": [
    "# ChatGPT con la API: Ejemplo mínimo"
   ]
  },
  {
   "cell_type": "markdown",
   "id": "d489e365",
   "metadata": {
    "id": "d489e365"
   },
   "source": [
    "## Imports y configuración de la API key"
   ]
  },
  {
   "cell_type": "code",
   "execution_count": null,
   "id": "8df5a68c",
   "metadata": {},
   "outputs": [],
   "source": [
    "!pip install --upgrade dotenv openai --quiet"
   ]
  },
  {
   "cell_type": "code",
   "execution_count": null,
   "id": "1209f6d9",
   "metadata": {
    "id": "1209f6d9"
   },
   "outputs": [],
   "source": [
    "import os\n",
    "from dotenv import load_dotenv\n",
    "from openai import OpenAI\n",
    "\n",
    "load_dotenv()\n",
    "\n",
    "# Pegar acá la API key\n",
    "# Tomar de acá: https://platform.openai.com/account/api-keys\n",
    "# Cuidado, no dejar pública!!\n",
    "OPENAI_API_KEY = os.getenv(\"OPENAI_API_KEY\")"
   ]
  },
  {
   "cell_type": "code",
   "execution_count": 6,
   "id": "9143b8f3",
   "metadata": {},
   "outputs": [
    {
     "data": {
      "text/plain": [
       "'NO_EXPONER_SECRET_KEY'"
      ]
     },
     "execution_count": 6,
     "metadata": {},
     "output_type": "execute_result"
    }
   ],
   "source": [
    "API_KEY = \"NO_EXPONER_SECRET_KEY\"\n",
    "API_KEY"
   ]
  },
  {
   "cell_type": "markdown",
   "id": "39f084b4",
   "metadata": {
    "id": "39f084b4"
   },
   "source": [
    "## Función de completado\n",
    "\n",
    "(Tomada del curso de [deeplearning.ai](https://learn.deeplearning.ai/chatgpt-prompt-eng/))\n",
    "\n",
    "Para los que quieran profundizar, [acá](https://platform.openai.com/docs/guides/chat/introduction) está la documentación."
   ]
  },
  {
   "cell_type": "code",
   "execution_count": null,
   "id": "d849520b",
   "metadata": {
    "id": "d849520b"
   },
   "outputs": [],
   "source": [
    "def get_completion(prompt, model=\"gpt-4.1\",temperature=0):\n",
    "    client = OpenAI(api_key=OPENAI_API_KEY)\n",
    "\n",
    "    messages = [{\"role\": \"user\", \"content\": prompt}]\n",
    "\n",
    "    response = client.chat.completions.create(\n",
    "        model=model,\n",
    "        messages=messages,\n",
    "        temperature=temperature, # grado de aleatoriedad\n",
    "    )\n",
    "    return response.choices[0].message.content"
   ]
  },
  {
   "cell_type": "markdown",
   "id": "cc353f28",
   "metadata": {
    "id": "cc353f28"
   },
   "source": [
    "## Llamando a la API"
   ]
  },
  {
   "cell_type": "code",
   "execution_count": null,
   "id": "lMywKhRRJ_xE",
   "metadata": {
    "id": "lMywKhRRJ_xE"
   },
   "outputs": [],
   "source": [
    "lamp_review = \"\"\"\n",
    "Necesitaba una lámpara bonita para mi habitación, y esta tenía \\\n",
    "almacenamiento adicional y no un precio demasiado alto. \\\n",
    "La recibí rápidamente. La cuerda de nuestra lámpara se rompió durante el \\\n",
    "tránsito y la compañía amablemente envió una nueva. \\\n",
    "Llegó también en pocos días. Fue fácil de armar. \\\n",
    "Tenía una pieza faltante, así que contacté a su \\\n",
    "soporte y muy rápidamente me enviaron la pieza que faltaba! \\\n",
    "¡Lumina me parece una gran empresa que se preocupa \\\n",
    "por sus clientes y productos!!\n",
    "\"\"\"\n"
   ]
  },
  {
   "cell_type": "code",
   "execution_count": null,
   "id": "0d58f7de",
   "metadata": {
    "colab": {
     "base_uri": "https://localhost:8080/"
    },
    "id": "0d58f7de",
    "outputId": "72ef7559-78e4-49f8-f49b-e48e874be542"
   },
   "outputs": [],
   "source": [
    "prompt = f\"\"\"\n",
    "Identifica los siguientes elementos del texto de la reseña:\n",
    "- Sentimiento (positivo o negativo)\n",
    "- ¿El revisor está expresando ira? (verdadero o falso)\n",
    "- Artículo comprado por el revisor\n",
    "- Compañía que fabricó el artículo\n",
    "\n",
    "La reseña está delimitada con comillas triples invertidas. \\\n",
    "Formatea tu respuesta como un objeto JSON con \\\n",
    "\"Sentimiento\", \"Ira\", \"Artículo\" y \"Marca\" como las claves.\n",
    "Si la información no está presente, usa \"desconocido\" \\\n",
    "como el valor.\n",
    "Haz tu respuesta lo más corta posible.\n",
    "Formatea el valor de Ira como un booleano.\n",
    "\n",
    "Texto de la reseña: '''{lamp_review}'''\n",
    "\"\"\"\n",
    "response = get_completion(prompt)\n",
    "print(response)\n"
   ]
  }
 ],
 "metadata": {
  "colab": {
   "provenance": [
    {
     "file_id": "1EicU-b8d1F10XNSBypKRwr6ijWCZi2tJ",
     "timestamp": 1754675014988
    }
   ]
  },
  "kernelspec": {
   "display_name": ".venv (3.12.6)",
   "language": "python",
   "name": "python3"
  },
  "language_info": {
   "codemirror_mode": {
    "name": "ipython",
    "version": 3
   },
   "file_extension": ".py",
   "mimetype": "text/x-python",
   "name": "python",
   "nbconvert_exporter": "python",
   "pygments_lexer": "ipython3",
   "version": "3.12.6"
  }
 },
 "nbformat": 4,
 "nbformat_minor": 5
}
